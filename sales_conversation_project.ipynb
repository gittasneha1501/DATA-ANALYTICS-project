{
  "nbformat": 4,
  "nbformat_minor": 0,
  "metadata": {
    "colab": {
      "provenance": []
    },
    "kernelspec": {
      "name": "python3",
      "display_name": "Python 3"
    },
    "language_info": {
      "name": "python"
    }
  },
  "cells": [
    {
      "cell_type": "code",
      "execution_count": 5,
      "metadata": {
        "colab": {
          "base_uri": "https://localhost:8080/"
        },
        "id": "iZBi8j6Qwez8",
        "outputId": "22cbaa8a-45ac-4524-c6a6-71ce88ba9c60"
      },
      "outputs": [
        {
          "output_type": "stream",
          "name": "stdout",
          "text": [
            "        ad_id  xyz_campaign_id  fb_campaign_id    age gender  interest  \\\n",
            "0      708746              916          103916  30-34      M        15   \n",
            "1      708749              916          103917  30-34      M        16   \n",
            "2      708771              916          103920  30-34      M        20   \n",
            "3      708815              916          103928  30-34      M        28   \n",
            "4      708818              916          103928  30-34      M        28   \n",
            "...       ...              ...             ...    ...    ...       ...   \n",
            "1138  1314410             1178          179977  45-49      F       109   \n",
            "1139  1314411             1178          179978  45-49      F       110   \n",
            "1140  1314412             1178          179979  45-49      F       111   \n",
            "1141  1314414             1178          179981  45-49      F       113   \n",
            "1142  1314415             1178          179982  45-49      F       114   \n",
            "\n",
            "      Impressions  Clicks       Spent  Total_Conversion  Approved_Conversion  \n",
            "0            7350       1    1.430000                 2                    1  \n",
            "1           17861       2    1.820000                 2                    0  \n",
            "2             693       0    0.000000                 1                    0  \n",
            "3            4259       1    1.250000                 1                    0  \n",
            "4            4133       1    1.290000                 1                    1  \n",
            "...           ...     ...         ...               ...                  ...  \n",
            "1138      1129773     252  358.189997                13                    2  \n",
            "1139       637549     120  173.880003                 3                    0  \n",
            "1140       151531      28   40.289999                 2                    0  \n",
            "1141       790253     135  198.710001                 8                    2  \n",
            "1142       513161     114  165.609999                 5                    2  \n",
            "\n",
            "[1143 rows x 11 columns]\n"
          ]
        }
      ],
      "source": [
        "import pandas as pd\n",
        "df=pd.read_csv(\"/content/KAG_conversion_data.csv\")\n",
        "print(df)"
      ]
    },
    {
      "cell_type": "code",
      "source": [
        "print(df.head(10)) #top rows\n",
        "print(df.tail(10))   #bottom rows"
      ],
      "metadata": {
        "colab": {
          "base_uri": "https://localhost:8080/"
        },
        "id": "7TowGQljxo0r",
        "outputId": "b848410d-68d1-4a0c-b326-d7f30a8f1d50"
      },
      "execution_count": 6,
      "outputs": [
        {
          "output_type": "stream",
          "name": "stdout",
          "text": [
            "    ad_id  xyz_campaign_id  fb_campaign_id    age gender  interest  \\\n",
            "0  708746              916          103916  30-34      M        15   \n",
            "1  708749              916          103917  30-34      M        16   \n",
            "2  708771              916          103920  30-34      M        20   \n",
            "3  708815              916          103928  30-34      M        28   \n",
            "4  708818              916          103928  30-34      M        28   \n",
            "5  708820              916          103929  30-34      M        29   \n",
            "6  708889              916          103940  30-34      M        15   \n",
            "7  708895              916          103941  30-34      M        16   \n",
            "8  708953              916          103951  30-34      M        27   \n",
            "9  708958              916          103952  30-34      M        28   \n",
            "\n",
            "   Impressions  Clicks  Spent  Total_Conversion  Approved_Conversion  \n",
            "0         7350       1   1.43                 2                    1  \n",
            "1        17861       2   1.82                 2                    0  \n",
            "2          693       0   0.00                 1                    0  \n",
            "3         4259       1   1.25                 1                    0  \n",
            "4         4133       1   1.29                 1                    1  \n",
            "5         1915       0   0.00                 1                    1  \n",
            "6        15615       3   4.77                 1                    0  \n",
            "7        10951       1   1.27                 1                    1  \n",
            "8         2355       1   1.50                 1                    0  \n",
            "9         9502       3   3.16                 1                    0  \n",
            "        ad_id  xyz_campaign_id  fb_campaign_id    age gender  interest  \\\n",
            "1133  1314405             1178          179972  45-49      F       104   \n",
            "1134  1314406             1178          179973  45-49      F       105   \n",
            "1135  1314407             1178          179974  45-49      F       106   \n",
            "1136  1314408             1178          179975  45-49      F       107   \n",
            "1137  1314409             1178          179976  45-49      F       108   \n",
            "1138  1314410             1178          179977  45-49      F       109   \n",
            "1139  1314411             1178          179978  45-49      F       110   \n",
            "1140  1314412             1178          179979  45-49      F       111   \n",
            "1141  1314414             1178          179981  45-49      F       113   \n",
            "1142  1314415             1178          179982  45-49      F       114   \n",
            "\n",
            "      Impressions  Clicks       Spent  Total_Conversion  Approved_Conversion  \n",
            "1133       558666     110  162.639997                14                    5  \n",
            "1134      1118200     235  333.749994                11                    4  \n",
            "1135       107100      23   33.710001                 1                    0  \n",
            "1136       877769     160  232.590001                13                    4  \n",
            "1137       212508      33   47.690000                 4                    1  \n",
            "1138      1129773     252  358.189997                13                    2  \n",
            "1139       637549     120  173.880003                 3                    0  \n",
            "1140       151531      28   40.289999                 2                    0  \n",
            "1141       790253     135  198.710001                 8                    2  \n",
            "1142       513161     114  165.609999                 5                    2  \n"
          ]
        }
      ]
    },
    {
      "cell_type": "code",
      "source": [
        "print(df.info())  #quick way to look datatypes,missing values,data size"
      ],
      "metadata": {
        "colab": {
          "base_uri": "https://localhost:8080/"
        },
        "id": "H3y1YuP_xu52",
        "outputId": "84bd8499-31bd-40da-f0ca-c9b21204b56b"
      },
      "execution_count": 7,
      "outputs": [
        {
          "output_type": "stream",
          "name": "stdout",
          "text": [
            "<class 'pandas.core.frame.DataFrame'>\n",
            "RangeIndex: 1143 entries, 0 to 1142\n",
            "Data columns (total 11 columns):\n",
            " #   Column               Non-Null Count  Dtype  \n",
            "---  ------               --------------  -----  \n",
            " 0   ad_id                1143 non-null   int64  \n",
            " 1   xyz_campaign_id      1143 non-null   int64  \n",
            " 2   fb_campaign_id       1143 non-null   int64  \n",
            " 3   age                  1143 non-null   object \n",
            " 4   gender               1143 non-null   object \n",
            " 5   interest             1143 non-null   int64  \n",
            " 6   Impressions          1143 non-null   int64  \n",
            " 7   Clicks               1143 non-null   int64  \n",
            " 8   Spent                1143 non-null   float64\n",
            " 9   Total_Conversion     1143 non-null   int64  \n",
            " 10  Approved_Conversion  1143 non-null   int64  \n",
            "dtypes: float64(1), int64(8), object(2)\n",
            "memory usage: 98.4+ KB\n",
            "None\n"
          ]
        }
      ]
    },
    {
      "cell_type": "code",
      "source": [
        "print(df.shape)   #no.of rows and columns\n",
        "print(df.shape[0])  #no.of rows\n",
        "print(df.shape[1])  #no.of columns"
      ],
      "metadata": {
        "colab": {
          "base_uri": "https://localhost:8080/"
        },
        "id": "S0F02dc5x3cF",
        "outputId": "30da42ce-410a-4f96-c7e9-27294b46b8d6"
      },
      "execution_count": 8,
      "outputs": [
        {
          "output_type": "stream",
          "name": "stdout",
          "text": [
            "(1143, 11)\n",
            "1143\n",
            "11\n"
          ]
        }
      ]
    },
    {
      "cell_type": "code",
      "source": [
        "print(df.columns)   #column names\n",
        "print(list(df.columns))   #convert to list"
      ],
      "metadata": {
        "colab": {
          "base_uri": "https://localhost:8080/"
        },
        "id": "QqyOJGrpyEvv",
        "outputId": "fddf5574-973b-4a52-e30f-fb4e564248a7"
      },
      "execution_count": 9,
      "outputs": [
        {
          "output_type": "stream",
          "name": "stdout",
          "text": [
            "Index(['ad_id', 'xyz_campaign_id', 'fb_campaign_id', 'age', 'gender',\n",
            "       'interest', 'Impressions', 'Clicks', 'Spent', 'Total_Conversion',\n",
            "       'Approved_Conversion'],\n",
            "      dtype='object')\n",
            "['ad_id', 'xyz_campaign_id', 'fb_campaign_id', 'age', 'gender', 'interest', 'Impressions', 'Clicks', 'Spent', 'Total_Conversion', 'Approved_Conversion']\n"
          ]
        }
      ]
    },
    {
      "cell_type": "code",
      "source": [
        "#checking for missing values\n",
        "print(df.isnull().head(15))\n",
        "print(df.isna().sum())   #null values & adding"
      ],
      "metadata": {
        "colab": {
          "base_uri": "https://localhost:8080/"
        },
        "id": "IX20atpCyGaJ",
        "outputId": "82e6fc5a-d26e-4d8b-b164-308d583102df"
      },
      "execution_count": 10,
      "outputs": [
        {
          "output_type": "stream",
          "name": "stdout",
          "text": [
            "    ad_id  xyz_campaign_id  fb_campaign_id    age  gender  interest  \\\n",
            "0   False            False           False  False   False     False   \n",
            "1   False            False           False  False   False     False   \n",
            "2   False            False           False  False   False     False   \n",
            "3   False            False           False  False   False     False   \n",
            "4   False            False           False  False   False     False   \n",
            "5   False            False           False  False   False     False   \n",
            "6   False            False           False  False   False     False   \n",
            "7   False            False           False  False   False     False   \n",
            "8   False            False           False  False   False     False   \n",
            "9   False            False           False  False   False     False   \n",
            "10  False            False           False  False   False     False   \n",
            "11  False            False           False  False   False     False   \n",
            "12  False            False           False  False   False     False   \n",
            "13  False            False           False  False   False     False   \n",
            "14  False            False           False  False   False     False   \n",
            "\n",
            "    Impressions  Clicks  Spent  Total_Conversion  Approved_Conversion  \n",
            "0         False   False  False             False                False  \n",
            "1         False   False  False             False                False  \n",
            "2         False   False  False             False                False  \n",
            "3         False   False  False             False                False  \n",
            "4         False   False  False             False                False  \n",
            "5         False   False  False             False                False  \n",
            "6         False   False  False             False                False  \n",
            "7         False   False  False             False                False  \n",
            "8         False   False  False             False                False  \n",
            "9         False   False  False             False                False  \n",
            "10        False   False  False             False                False  \n",
            "11        False   False  False             False                False  \n",
            "12        False   False  False             False                False  \n",
            "13        False   False  False             False                False  \n",
            "14        False   False  False             False                False  \n",
            "ad_id                  0\n",
            "xyz_campaign_id        0\n",
            "fb_campaign_id         0\n",
            "age                    0\n",
            "gender                 0\n",
            "interest               0\n",
            "Impressions            0\n",
            "Clicks                 0\n",
            "Spent                  0\n",
            "Total_Conversion       0\n",
            "Approved_Conversion    0\n",
            "dtype: int64\n"
          ]
        }
      ]
    },
    {
      "cell_type": "code",
      "source": [
        "#slicing & extracting data\n",
        "\n",
        "##isolating columns\n",
        "\n",
        "print(df['interest'].head(10))    #one column\n",
        "print(df[['Impressions','age']].head(15))   #multiple column\n",
        "\n",
        "##isolating rows\n",
        "print(df[df.index==20])"
      ],
      "metadata": {
        "colab": {
          "base_uri": "https://localhost:8080/"
        },
        "id": "j677DSeTyM7Z",
        "outputId": "cc93daec-4467-4809-b1e6-6775157bc751"
      },
      "execution_count": 11,
      "outputs": [
        {
          "output_type": "stream",
          "name": "stdout",
          "text": [
            "0    15\n",
            "1    16\n",
            "2    20\n",
            "3    28\n",
            "4    28\n",
            "5    29\n",
            "6    15\n",
            "7    16\n",
            "8    27\n",
            "9    28\n",
            "Name: interest, dtype: int64\n",
            "    Impressions    age\n",
            "0          7350  30-34\n",
            "1         17861  30-34\n",
            "2           693  30-34\n",
            "3          4259  30-34\n",
            "4          4133  30-34\n",
            "5          1915  30-34\n",
            "6         15615  30-34\n",
            "7         10951  30-34\n",
            "8          2355  30-34\n",
            "9          9502  30-34\n",
            "10         1224  30-34\n",
            "11          735  30-34\n",
            "12         5117  30-34\n",
            "13         5120  30-34\n",
            "14        14669  30-34\n",
            "     ad_id  xyz_campaign_id  fb_campaign_id    age gender  interest  \\\n",
            "20  709320              916          104012  35-39      M        15   \n",
            "\n",
            "    Impressions  Clicks  Spent  Total_Conversion  Approved_Conversion  \n",
            "20         1422       0    0.0                 1                    1  \n"
          ]
        }
      ]
    },
    {
      "cell_type": "code",
      "source": [
        "#using.loc to fetch rows\n",
        "print(df.loc[12])\n",
        "print(df.loc[10:16])\n",
        "print(df.iloc[9])\n",
        "print(df.iloc[6:9])"
      ],
      "metadata": {
        "colab": {
          "base_uri": "https://localhost:8080/"
        },
        "id": "xAVculyHyraK",
        "outputId": "49271be9-ff23-4172-f8bf-b9db142345e1"
      },
      "execution_count": 12,
      "outputs": [
        {
          "output_type": "stream",
          "name": "stdout",
          "text": [
            "ad_id                  709038\n",
            "xyz_campaign_id           916\n",
            "fb_campaign_id         103965\n",
            "age                     30-34\n",
            "gender                      M\n",
            "interest                   16\n",
            "Impressions              5117\n",
            "Clicks                      0\n",
            "Spent                     0.0\n",
            "Total_Conversion            1\n",
            "Approved_Conversion         0\n",
            "Name: 12, dtype: object\n",
            "     ad_id  xyz_campaign_id  fb_campaign_id    age gender  interest  \\\n",
            "10  708979              916          103955  30-34      M        31   \n",
            "11  709023              916          103962  30-34      M         7   \n",
            "12  709038              916          103965  30-34      M        16   \n",
            "13  709040              916          103965  30-34      M        16   \n",
            "14  709059              916          103968  30-34      M        20   \n",
            "15  709105              916          103976  30-34      M        28   \n",
            "16  709115              916          103978  30-34      M        30   \n",
            "\n",
            "    Impressions  Clicks  Spent  Total_Conversion  Approved_Conversion  \n",
            "10         1224       0   0.00                 1                    0  \n",
            "11          735       0   0.00                 1                    0  \n",
            "12         5117       0   0.00                 1                    0  \n",
            "13         5120       0   0.00                 1                    0  \n",
            "14        14669       7  10.28                 1                    1  \n",
            "15         1241       0   0.00                 1                    1  \n",
            "16         2305       1   0.57                 1                    0  \n",
            "ad_id                  708958\n",
            "xyz_campaign_id           916\n",
            "fb_campaign_id         103952\n",
            "age                     30-34\n",
            "gender                      M\n",
            "interest                   28\n",
            "Impressions              9502\n",
            "Clicks                      3\n",
            "Spent                    3.16\n",
            "Total_Conversion            1\n",
            "Approved_Conversion         0\n",
            "Name: 9, dtype: object\n",
            "    ad_id  xyz_campaign_id  fb_campaign_id    age gender  interest  \\\n",
            "6  708889              916          103940  30-34      M        15   \n",
            "7  708895              916          103941  30-34      M        16   \n",
            "8  708953              916          103951  30-34      M        27   \n",
            "\n",
            "   Impressions  Clicks  Spent  Total_Conversion  Approved_Conversion  \n",
            "6        15615       3   4.77                 1                    0  \n",
            "7        10951       1   1.27                 1                    1  \n",
            "8         2355       1   1.50                 1                    0  \n"
          ]
        }
      ]
    },
    {
      "cell_type": "code",
      "source": [
        "#dealing with missing values\n",
        "##dropping missing values\n",
        "data1=df.dropna()\n",
        "print(data1.isnull().sum())\n",
        "df.dropna(inplace=True,axis=0)\n",
        "print(df.isnull().sum())"
      ],
      "metadata": {
        "colab": {
          "base_uri": "https://localhost:8080/"
        },
        "id": "JuMfA9Mcy-DW",
        "outputId": "15173d40-dc78-459c-f67c-f661f9e95d91"
      },
      "execution_count": 13,
      "outputs": [
        {
          "output_type": "stream",
          "name": "stdout",
          "text": [
            "ad_id                  0\n",
            "xyz_campaign_id        0\n",
            "fb_campaign_id         0\n",
            "age                    0\n",
            "gender                 0\n",
            "interest               0\n",
            "Impressions            0\n",
            "Clicks                 0\n",
            "Spent                  0\n",
            "Total_Conversion       0\n",
            "Approved_Conversion    0\n",
            "dtype: int64\n",
            "ad_id                  0\n",
            "xyz_campaign_id        0\n",
            "fb_campaign_id         0\n",
            "age                    0\n",
            "gender                 0\n",
            "interest               0\n",
            "Impressions            0\n",
            "Clicks                 0\n",
            "Spent                  0\n",
            "Total_Conversion       0\n",
            "Approved_Conversion    0\n",
            "dtype: int64\n"
          ]
        }
      ]
    },
    {
      "cell_type": "code",
      "source": [
        "#replacing mean\n",
        "mean_value=df['Spent'].mean()\n",
        "print(mean_value)\n",
        "#replacing median\n",
        "median_value=df['Impressions'].median()\n",
        "print(median_value)"
      ],
      "metadata": {
        "colab": {
          "base_uri": "https://localhost:8080/"
        },
        "id": "aAaT-qktzHtH",
        "outputId": "d3977cba-2cc2-4b24-d2ee-c1dba363de22"
      },
      "execution_count": 14,
      "outputs": [
        {
          "output_type": "stream",
          "name": "stdout",
          "text": [
            "51.36065613141295\n",
            "51509.0\n"
          ]
        }
      ]
    },
    {
      "cell_type": "code",
      "source": [
        "#renaming column\n",
        "df.rename(columns={'interest':'INTEREST'},inplace=True)\n",
        "df.head(20)"
      ],
      "metadata": {
        "colab": {
          "base_uri": "https://localhost:8080/",
          "height": 1000
        },
        "id": "jxBIfsM8zXAS",
        "outputId": "d84edc46-e7b4-445a-c44a-1557bd54f063"
      },
      "execution_count": 15,
      "outputs": [
        {
          "output_type": "execute_result",
          "data": {
            "text/plain": [
              "     ad_id  xyz_campaign_id  fb_campaign_id    age gender  INTEREST  \\\n",
              "0   708746              916          103916  30-34      M        15   \n",
              "1   708749              916          103917  30-34      M        16   \n",
              "2   708771              916          103920  30-34      M        20   \n",
              "3   708815              916          103928  30-34      M        28   \n",
              "4   708818              916          103928  30-34      M        28   \n",
              "5   708820              916          103929  30-34      M        29   \n",
              "6   708889              916          103940  30-34      M        15   \n",
              "7   708895              916          103941  30-34      M        16   \n",
              "8   708953              916          103951  30-34      M        27   \n",
              "9   708958              916          103952  30-34      M        28   \n",
              "10  708979              916          103955  30-34      M        31   \n",
              "11  709023              916          103962  30-34      M         7   \n",
              "12  709038              916          103965  30-34      M        16   \n",
              "13  709040              916          103965  30-34      M        16   \n",
              "14  709059              916          103968  30-34      M        20   \n",
              "15  709105              916          103976  30-34      M        28   \n",
              "16  709115              916          103978  30-34      M        30   \n",
              "17  709124              916          103979  30-34      M        31   \n",
              "18  709179              916          103988  35-39      M        15   \n",
              "19  709183              916          103989  35-39      M        16   \n",
              "\n",
              "    Impressions  Clicks  Spent  Total_Conversion  Approved_Conversion  \n",
              "0          7350       1   1.43                 2                    1  \n",
              "1         17861       2   1.82                 2                    0  \n",
              "2           693       0   0.00                 1                    0  \n",
              "3          4259       1   1.25                 1                    0  \n",
              "4          4133       1   1.29                 1                    1  \n",
              "5          1915       0   0.00                 1                    1  \n",
              "6         15615       3   4.77                 1                    0  \n",
              "7         10951       1   1.27                 1                    1  \n",
              "8          2355       1   1.50                 1                    0  \n",
              "9          9502       3   3.16                 1                    0  \n",
              "10         1224       0   0.00                 1                    0  \n",
              "11          735       0   0.00                 1                    0  \n",
              "12         5117       0   0.00                 1                    0  \n",
              "13         5120       0   0.00                 1                    0  \n",
              "14        14669       7  10.28                 1                    1  \n",
              "15         1241       0   0.00                 1                    1  \n",
              "16         2305       1   0.57                 1                    0  \n",
              "17         1024       0   0.00                 1                    1  \n",
              "18         4627       1   1.69                 1                    0  \n",
              "19        21026       4   4.63                 2                    1  "
            ],
            "text/html": [
              "\n",
              "  <div id=\"df-075676ac-83bd-4e27-841b-7553769be81c\" class=\"colab-df-container\">\n",
              "    <div>\n",
              "<style scoped>\n",
              "    .dataframe tbody tr th:only-of-type {\n",
              "        vertical-align: middle;\n",
              "    }\n",
              "\n",
              "    .dataframe tbody tr th {\n",
              "        vertical-align: top;\n",
              "    }\n",
              "\n",
              "    .dataframe thead th {\n",
              "        text-align: right;\n",
              "    }\n",
              "</style>\n",
              "<table border=\"1\" class=\"dataframe\">\n",
              "  <thead>\n",
              "    <tr style=\"text-align: right;\">\n",
              "      <th></th>\n",
              "      <th>ad_id</th>\n",
              "      <th>xyz_campaign_id</th>\n",
              "      <th>fb_campaign_id</th>\n",
              "      <th>age</th>\n",
              "      <th>gender</th>\n",
              "      <th>INTEREST</th>\n",
              "      <th>Impressions</th>\n",
              "      <th>Clicks</th>\n",
              "      <th>Spent</th>\n",
              "      <th>Total_Conversion</th>\n",
              "      <th>Approved_Conversion</th>\n",
              "    </tr>\n",
              "  </thead>\n",
              "  <tbody>\n",
              "    <tr>\n",
              "      <th>0</th>\n",
              "      <td>708746</td>\n",
              "      <td>916</td>\n",
              "      <td>103916</td>\n",
              "      <td>30-34</td>\n",
              "      <td>M</td>\n",
              "      <td>15</td>\n",
              "      <td>7350</td>\n",
              "      <td>1</td>\n",
              "      <td>1.43</td>\n",
              "      <td>2</td>\n",
              "      <td>1</td>\n",
              "    </tr>\n",
              "    <tr>\n",
              "      <th>1</th>\n",
              "      <td>708749</td>\n",
              "      <td>916</td>\n",
              "      <td>103917</td>\n",
              "      <td>30-34</td>\n",
              "      <td>M</td>\n",
              "      <td>16</td>\n",
              "      <td>17861</td>\n",
              "      <td>2</td>\n",
              "      <td>1.82</td>\n",
              "      <td>2</td>\n",
              "      <td>0</td>\n",
              "    </tr>\n",
              "    <tr>\n",
              "      <th>2</th>\n",
              "      <td>708771</td>\n",
              "      <td>916</td>\n",
              "      <td>103920</td>\n",
              "      <td>30-34</td>\n",
              "      <td>M</td>\n",
              "      <td>20</td>\n",
              "      <td>693</td>\n",
              "      <td>0</td>\n",
              "      <td>0.00</td>\n",
              "      <td>1</td>\n",
              "      <td>0</td>\n",
              "    </tr>\n",
              "    <tr>\n",
              "      <th>3</th>\n",
              "      <td>708815</td>\n",
              "      <td>916</td>\n",
              "      <td>103928</td>\n",
              "      <td>30-34</td>\n",
              "      <td>M</td>\n",
              "      <td>28</td>\n",
              "      <td>4259</td>\n",
              "      <td>1</td>\n",
              "      <td>1.25</td>\n",
              "      <td>1</td>\n",
              "      <td>0</td>\n",
              "    </tr>\n",
              "    <tr>\n",
              "      <th>4</th>\n",
              "      <td>708818</td>\n",
              "      <td>916</td>\n",
              "      <td>103928</td>\n",
              "      <td>30-34</td>\n",
              "      <td>M</td>\n",
              "      <td>28</td>\n",
              "      <td>4133</td>\n",
              "      <td>1</td>\n",
              "      <td>1.29</td>\n",
              "      <td>1</td>\n",
              "      <td>1</td>\n",
              "    </tr>\n",
              "    <tr>\n",
              "      <th>5</th>\n",
              "      <td>708820</td>\n",
              "      <td>916</td>\n",
              "      <td>103929</td>\n",
              "      <td>30-34</td>\n",
              "      <td>M</td>\n",
              "      <td>29</td>\n",
              "      <td>1915</td>\n",
              "      <td>0</td>\n",
              "      <td>0.00</td>\n",
              "      <td>1</td>\n",
              "      <td>1</td>\n",
              "    </tr>\n",
              "    <tr>\n",
              "      <th>6</th>\n",
              "      <td>708889</td>\n",
              "      <td>916</td>\n",
              "      <td>103940</td>\n",
              "      <td>30-34</td>\n",
              "      <td>M</td>\n",
              "      <td>15</td>\n",
              "      <td>15615</td>\n",
              "      <td>3</td>\n",
              "      <td>4.77</td>\n",
              "      <td>1</td>\n",
              "      <td>0</td>\n",
              "    </tr>\n",
              "    <tr>\n",
              "      <th>7</th>\n",
              "      <td>708895</td>\n",
              "      <td>916</td>\n",
              "      <td>103941</td>\n",
              "      <td>30-34</td>\n",
              "      <td>M</td>\n",
              "      <td>16</td>\n",
              "      <td>10951</td>\n",
              "      <td>1</td>\n",
              "      <td>1.27</td>\n",
              "      <td>1</td>\n",
              "      <td>1</td>\n",
              "    </tr>\n",
              "    <tr>\n",
              "      <th>8</th>\n",
              "      <td>708953</td>\n",
              "      <td>916</td>\n",
              "      <td>103951</td>\n",
              "      <td>30-34</td>\n",
              "      <td>M</td>\n",
              "      <td>27</td>\n",
              "      <td>2355</td>\n",
              "      <td>1</td>\n",
              "      <td>1.50</td>\n",
              "      <td>1</td>\n",
              "      <td>0</td>\n",
              "    </tr>\n",
              "    <tr>\n",
              "      <th>9</th>\n",
              "      <td>708958</td>\n",
              "      <td>916</td>\n",
              "      <td>103952</td>\n",
              "      <td>30-34</td>\n",
              "      <td>M</td>\n",
              "      <td>28</td>\n",
              "      <td>9502</td>\n",
              "      <td>3</td>\n",
              "      <td>3.16</td>\n",
              "      <td>1</td>\n",
              "      <td>0</td>\n",
              "    </tr>\n",
              "    <tr>\n",
              "      <th>10</th>\n",
              "      <td>708979</td>\n",
              "      <td>916</td>\n",
              "      <td>103955</td>\n",
              "      <td>30-34</td>\n",
              "      <td>M</td>\n",
              "      <td>31</td>\n",
              "      <td>1224</td>\n",
              "      <td>0</td>\n",
              "      <td>0.00</td>\n",
              "      <td>1</td>\n",
              "      <td>0</td>\n",
              "    </tr>\n",
              "    <tr>\n",
              "      <th>11</th>\n",
              "      <td>709023</td>\n",
              "      <td>916</td>\n",
              "      <td>103962</td>\n",
              "      <td>30-34</td>\n",
              "      <td>M</td>\n",
              "      <td>7</td>\n",
              "      <td>735</td>\n",
              "      <td>0</td>\n",
              "      <td>0.00</td>\n",
              "      <td>1</td>\n",
              "      <td>0</td>\n",
              "    </tr>\n",
              "    <tr>\n",
              "      <th>12</th>\n",
              "      <td>709038</td>\n",
              "      <td>916</td>\n",
              "      <td>103965</td>\n",
              "      <td>30-34</td>\n",
              "      <td>M</td>\n",
              "      <td>16</td>\n",
              "      <td>5117</td>\n",
              "      <td>0</td>\n",
              "      <td>0.00</td>\n",
              "      <td>1</td>\n",
              "      <td>0</td>\n",
              "    </tr>\n",
              "    <tr>\n",
              "      <th>13</th>\n",
              "      <td>709040</td>\n",
              "      <td>916</td>\n",
              "      <td>103965</td>\n",
              "      <td>30-34</td>\n",
              "      <td>M</td>\n",
              "      <td>16</td>\n",
              "      <td>5120</td>\n",
              "      <td>0</td>\n",
              "      <td>0.00</td>\n",
              "      <td>1</td>\n",
              "      <td>0</td>\n",
              "    </tr>\n",
              "    <tr>\n",
              "      <th>14</th>\n",
              "      <td>709059</td>\n",
              "      <td>916</td>\n",
              "      <td>103968</td>\n",
              "      <td>30-34</td>\n",
              "      <td>M</td>\n",
              "      <td>20</td>\n",
              "      <td>14669</td>\n",
              "      <td>7</td>\n",
              "      <td>10.28</td>\n",
              "      <td>1</td>\n",
              "      <td>1</td>\n",
              "    </tr>\n",
              "    <tr>\n",
              "      <th>15</th>\n",
              "      <td>709105</td>\n",
              "      <td>916</td>\n",
              "      <td>103976</td>\n",
              "      <td>30-34</td>\n",
              "      <td>M</td>\n",
              "      <td>28</td>\n",
              "      <td>1241</td>\n",
              "      <td>0</td>\n",
              "      <td>0.00</td>\n",
              "      <td>1</td>\n",
              "      <td>1</td>\n",
              "    </tr>\n",
              "    <tr>\n",
              "      <th>16</th>\n",
              "      <td>709115</td>\n",
              "      <td>916</td>\n",
              "      <td>103978</td>\n",
              "      <td>30-34</td>\n",
              "      <td>M</td>\n",
              "      <td>30</td>\n",
              "      <td>2305</td>\n",
              "      <td>1</td>\n",
              "      <td>0.57</td>\n",
              "      <td>1</td>\n",
              "      <td>0</td>\n",
              "    </tr>\n",
              "    <tr>\n",
              "      <th>17</th>\n",
              "      <td>709124</td>\n",
              "      <td>916</td>\n",
              "      <td>103979</td>\n",
              "      <td>30-34</td>\n",
              "      <td>M</td>\n",
              "      <td>31</td>\n",
              "      <td>1024</td>\n",
              "      <td>0</td>\n",
              "      <td>0.00</td>\n",
              "      <td>1</td>\n",
              "      <td>1</td>\n",
              "    </tr>\n",
              "    <tr>\n",
              "      <th>18</th>\n",
              "      <td>709179</td>\n",
              "      <td>916</td>\n",
              "      <td>103988</td>\n",
              "      <td>35-39</td>\n",
              "      <td>M</td>\n",
              "      <td>15</td>\n",
              "      <td>4627</td>\n",
              "      <td>1</td>\n",
              "      <td>1.69</td>\n",
              "      <td>1</td>\n",
              "      <td>0</td>\n",
              "    </tr>\n",
              "    <tr>\n",
              "      <th>19</th>\n",
              "      <td>709183</td>\n",
              "      <td>916</td>\n",
              "      <td>103989</td>\n",
              "      <td>35-39</td>\n",
              "      <td>M</td>\n",
              "      <td>16</td>\n",
              "      <td>21026</td>\n",
              "      <td>4</td>\n",
              "      <td>4.63</td>\n",
              "      <td>2</td>\n",
              "      <td>1</td>\n",
              "    </tr>\n",
              "  </tbody>\n",
              "</table>\n",
              "</div>\n",
              "    <div class=\"colab-df-buttons\">\n",
              "\n",
              "  <div class=\"colab-df-container\">\n",
              "    <button class=\"colab-df-convert\" onclick=\"convertToInteractive('df-075676ac-83bd-4e27-841b-7553769be81c')\"\n",
              "            title=\"Convert this dataframe to an interactive table.\"\n",
              "            style=\"display:none;\">\n",
              "\n",
              "  <svg xmlns=\"http://www.w3.org/2000/svg\" height=\"24px\" viewBox=\"0 -960 960 960\">\n",
              "    <path d=\"M120-120v-720h720v720H120Zm60-500h600v-160H180v160Zm220 220h160v-160H400v160Zm0 220h160v-160H400v160ZM180-400h160v-160H180v160Zm440 0h160v-160H620v160ZM180-180h160v-160H180v160Zm440 0h160v-160H620v160Z\"/>\n",
              "  </svg>\n",
              "    </button>\n",
              "\n",
              "  <style>\n",
              "    .colab-df-container {\n",
              "      display:flex;\n",
              "      gap: 12px;\n",
              "    }\n",
              "\n",
              "    .colab-df-convert {\n",
              "      background-color: #E8F0FE;\n",
              "      border: none;\n",
              "      border-radius: 50%;\n",
              "      cursor: pointer;\n",
              "      display: none;\n",
              "      fill: #1967D2;\n",
              "      height: 32px;\n",
              "      padding: 0 0 0 0;\n",
              "      width: 32px;\n",
              "    }\n",
              "\n",
              "    .colab-df-convert:hover {\n",
              "      background-color: #E2EBFA;\n",
              "      box-shadow: 0px 1px 2px rgba(60, 64, 67, 0.3), 0px 1px 3px 1px rgba(60, 64, 67, 0.15);\n",
              "      fill: #174EA6;\n",
              "    }\n",
              "\n",
              "    .colab-df-buttons div {\n",
              "      margin-bottom: 4px;\n",
              "    }\n",
              "\n",
              "    [theme=dark] .colab-df-convert {\n",
              "      background-color: #3B4455;\n",
              "      fill: #D2E3FC;\n",
              "    }\n",
              "\n",
              "    [theme=dark] .colab-df-convert:hover {\n",
              "      background-color: #434B5C;\n",
              "      box-shadow: 0px 1px 3px 1px rgba(0, 0, 0, 0.15);\n",
              "      filter: drop-shadow(0px 1px 2px rgba(0, 0, 0, 0.3));\n",
              "      fill: #FFFFFF;\n",
              "    }\n",
              "  </style>\n",
              "\n",
              "    <script>\n",
              "      const buttonEl =\n",
              "        document.querySelector('#df-075676ac-83bd-4e27-841b-7553769be81c button.colab-df-convert');\n",
              "      buttonEl.style.display =\n",
              "        google.colab.kernel.accessAllowed ? 'block' : 'none';\n",
              "\n",
              "      async function convertToInteractive(key) {\n",
              "        const element = document.querySelector('#df-075676ac-83bd-4e27-841b-7553769be81c');\n",
              "        const dataTable =\n",
              "          await google.colab.kernel.invokeFunction('convertToInteractive',\n",
              "                                                    [key], {});\n",
              "        if (!dataTable) return;\n",
              "\n",
              "        const docLinkHtml = 'Like what you see? Visit the ' +\n",
              "          '<a target=\"_blank\" href=https://colab.research.google.com/notebooks/data_table.ipynb>data table notebook</a>'\n",
              "          + ' to learn more about interactive tables.';\n",
              "        element.innerHTML = '';\n",
              "        dataTable['output_type'] = 'display_data';\n",
              "        await google.colab.output.renderOutput(dataTable, element);\n",
              "        const docLink = document.createElement('div');\n",
              "        docLink.innerHTML = docLinkHtml;\n",
              "        element.appendChild(docLink);\n",
              "      }\n",
              "    </script>\n",
              "  </div>\n",
              "\n",
              "\n",
              "<div id=\"df-ad9a36cf-9ed3-493e-bff8-10ffe625117f\">\n",
              "  <button class=\"colab-df-quickchart\" onclick=\"quickchart('df-ad9a36cf-9ed3-493e-bff8-10ffe625117f')\"\n",
              "            title=\"Suggest charts\"\n",
              "            style=\"display:none;\">\n",
              "\n",
              "<svg xmlns=\"http://www.w3.org/2000/svg\" height=\"24px\"viewBox=\"0 0 24 24\"\n",
              "     width=\"24px\">\n",
              "    <g>\n",
              "        <path d=\"M19 3H5c-1.1 0-2 .9-2 2v14c0 1.1.9 2 2 2h14c1.1 0 2-.9 2-2V5c0-1.1-.9-2-2-2zM9 17H7v-7h2v7zm4 0h-2V7h2v10zm4 0h-2v-4h2v4z\"/>\n",
              "    </g>\n",
              "</svg>\n",
              "  </button>\n",
              "\n",
              "<style>\n",
              "  .colab-df-quickchart {\n",
              "      --bg-color: #E8F0FE;\n",
              "      --fill-color: #1967D2;\n",
              "      --hover-bg-color: #E2EBFA;\n",
              "      --hover-fill-color: #174EA6;\n",
              "      --disabled-fill-color: #AAA;\n",
              "      --disabled-bg-color: #DDD;\n",
              "  }\n",
              "\n",
              "  [theme=dark] .colab-df-quickchart {\n",
              "      --bg-color: #3B4455;\n",
              "      --fill-color: #D2E3FC;\n",
              "      --hover-bg-color: #434B5C;\n",
              "      --hover-fill-color: #FFFFFF;\n",
              "      --disabled-bg-color: #3B4455;\n",
              "      --disabled-fill-color: #666;\n",
              "  }\n",
              "\n",
              "  .colab-df-quickchart {\n",
              "    background-color: var(--bg-color);\n",
              "    border: none;\n",
              "    border-radius: 50%;\n",
              "    cursor: pointer;\n",
              "    display: none;\n",
              "    fill: var(--fill-color);\n",
              "    height: 32px;\n",
              "    padding: 0;\n",
              "    width: 32px;\n",
              "  }\n",
              "\n",
              "  .colab-df-quickchart:hover {\n",
              "    background-color: var(--hover-bg-color);\n",
              "    box-shadow: 0 1px 2px rgba(60, 64, 67, 0.3), 0 1px 3px 1px rgba(60, 64, 67, 0.15);\n",
              "    fill: var(--button-hover-fill-color);\n",
              "  }\n",
              "\n",
              "  .colab-df-quickchart-complete:disabled,\n",
              "  .colab-df-quickchart-complete:disabled:hover {\n",
              "    background-color: var(--disabled-bg-color);\n",
              "    fill: var(--disabled-fill-color);\n",
              "    box-shadow: none;\n",
              "  }\n",
              "\n",
              "  .colab-df-spinner {\n",
              "    border: 2px solid var(--fill-color);\n",
              "    border-color: transparent;\n",
              "    border-bottom-color: var(--fill-color);\n",
              "    animation:\n",
              "      spin 1s steps(1) infinite;\n",
              "  }\n",
              "\n",
              "  @keyframes spin {\n",
              "    0% {\n",
              "      border-color: transparent;\n",
              "      border-bottom-color: var(--fill-color);\n",
              "      border-left-color: var(--fill-color);\n",
              "    }\n",
              "    20% {\n",
              "      border-color: transparent;\n",
              "      border-left-color: var(--fill-color);\n",
              "      border-top-color: var(--fill-color);\n",
              "    }\n",
              "    30% {\n",
              "      border-color: transparent;\n",
              "      border-left-color: var(--fill-color);\n",
              "      border-top-color: var(--fill-color);\n",
              "      border-right-color: var(--fill-color);\n",
              "    }\n",
              "    40% {\n",
              "      border-color: transparent;\n",
              "      border-right-color: var(--fill-color);\n",
              "      border-top-color: var(--fill-color);\n",
              "    }\n",
              "    60% {\n",
              "      border-color: transparent;\n",
              "      border-right-color: var(--fill-color);\n",
              "    }\n",
              "    80% {\n",
              "      border-color: transparent;\n",
              "      border-right-color: var(--fill-color);\n",
              "      border-bottom-color: var(--fill-color);\n",
              "    }\n",
              "    90% {\n",
              "      border-color: transparent;\n",
              "      border-bottom-color: var(--fill-color);\n",
              "    }\n",
              "  }\n",
              "</style>\n",
              "\n",
              "  <script>\n",
              "    async function quickchart(key) {\n",
              "      const quickchartButtonEl =\n",
              "        document.querySelector('#' + key + ' button');\n",
              "      quickchartButtonEl.disabled = true;  // To prevent multiple clicks.\n",
              "      quickchartButtonEl.classList.add('colab-df-spinner');\n",
              "      try {\n",
              "        const charts = await google.colab.kernel.invokeFunction(\n",
              "            'suggestCharts', [key], {});\n",
              "      } catch (error) {\n",
              "        console.error('Error during call to suggestCharts:', error);\n",
              "      }\n",
              "      quickchartButtonEl.classList.remove('colab-df-spinner');\n",
              "      quickchartButtonEl.classList.add('colab-df-quickchart-complete');\n",
              "    }\n",
              "    (() => {\n",
              "      let quickchartButtonEl =\n",
              "        document.querySelector('#df-ad9a36cf-9ed3-493e-bff8-10ffe625117f button');\n",
              "      quickchartButtonEl.style.display =\n",
              "        google.colab.kernel.accessAllowed ? 'block' : 'none';\n",
              "    })();\n",
              "  </script>\n",
              "</div>\n",
              "\n",
              "    </div>\n",
              "  </div>\n"
            ],
            "application/vnd.google.colaboratory.intrinsic+json": {
              "type": "dataframe",
              "variable_name": "df",
              "summary": "{\n  \"name\": \"df\",\n  \"rows\": 1143,\n  \"fields\": [\n    {\n      \"column\": \"ad_id\",\n      \"properties\": {\n        \"dtype\": \"number\",\n        \"std\": 193992,\n        \"min\": 708746,\n        \"max\": 1314415,\n        \"num_unique_values\": 1143,\n        \"samples\": [\n          747332,\n          1314343,\n          777794\n        ],\n        \"semantic_type\": \"\",\n        \"description\": \"\"\n      }\n    },\n    {\n      \"column\": \"xyz_campaign_id\",\n      \"properties\": {\n        \"dtype\": \"number\",\n        \"std\": 121,\n        \"min\": 916,\n        \"max\": 1178,\n        \"num_unique_values\": 3,\n        \"samples\": [\n          916,\n          936,\n          1178\n        ],\n        \"semantic_type\": \"\",\n        \"description\": \"\"\n      }\n    },\n    {\n      \"column\": \"fb_campaign_id\",\n      \"properties\": {\n        \"dtype\": \"number\",\n        \"std\": 20500,\n        \"min\": 103916,\n        \"max\": 179982,\n        \"num_unique_values\": 691,\n        \"samples\": [\n          123616,\n          179965,\n          115890\n        ],\n        \"semantic_type\": \"\",\n        \"description\": \"\"\n      }\n    },\n    {\n      \"column\": \"age\",\n      \"properties\": {\n        \"dtype\": \"category\",\n        \"num_unique_values\": 4,\n        \"samples\": [\n          \"35-39\",\n          \"45-49\",\n          \"30-34\"\n        ],\n        \"semantic_type\": \"\",\n        \"description\": \"\"\n      }\n    },\n    {\n      \"column\": \"gender\",\n      \"properties\": {\n        \"dtype\": \"category\",\n        \"num_unique_values\": 2,\n        \"samples\": [\n          \"F\",\n          \"M\"\n        ],\n        \"semantic_type\": \"\",\n        \"description\": \"\"\n      }\n    },\n    {\n      \"column\": \"INTEREST\",\n      \"properties\": {\n        \"dtype\": \"number\",\n        \"std\": 26,\n        \"min\": 2,\n        \"max\": 114,\n        \"num_unique_values\": 40,\n        \"samples\": [\n          36,\n          10\n        ],\n        \"semantic_type\": \"\",\n        \"description\": \"\"\n      }\n    },\n    {\n      \"column\": \"Impressions\",\n      \"properties\": {\n        \"dtype\": \"number\",\n        \"std\": 312762,\n        \"min\": 87,\n        \"max\": 3052003,\n        \"num_unique_values\": 1130,\n        \"samples\": [\n          140596,\n          98057\n        ],\n        \"semantic_type\": \"\",\n        \"description\": \"\"\n      }\n    },\n    {\n      \"column\": \"Clicks\",\n      \"properties\": {\n        \"dtype\": \"number\",\n        \"std\": 56,\n        \"min\": 0,\n        \"max\": 421,\n        \"num_unique_values\": 183,\n        \"samples\": [\n          116,\n          123\n        ],\n        \"semantic_type\": \"\",\n        \"description\": \"\"\n      }\n    },\n    {\n      \"column\": \"Spent\",\n      \"properties\": {\n        \"dtype\": \"number\",\n        \"std\": 86.90841793584877,\n        \"min\": 0.0,\n        \"max\": 639.9499981,\n        \"num_unique_values\": 869,\n        \"samples\": [\n          41.71999967,\n          38.63999999\n        ],\n        \"semantic_type\": \"\",\n        \"description\": \"\"\n      }\n    },\n    {\n      \"column\": \"Total_Conversion\",\n      \"properties\": {\n        \"dtype\": \"number\",\n        \"std\": 4,\n        \"min\": 0,\n        \"max\": 60,\n        \"num_unique_values\": 32,\n        \"samples\": [\n          21,\n          20\n        ],\n        \"semantic_type\": \"\",\n        \"description\": \"\"\n      }\n    },\n    {\n      \"column\": \"Approved_Conversion\",\n      \"properties\": {\n        \"dtype\": \"number\",\n        \"std\": 1,\n        \"min\": 0,\n        \"max\": 21,\n        \"num_unique_values\": 16,\n        \"samples\": [\n          1,\n          0\n        ],\n        \"semantic_type\": \"\",\n        \"description\": \"\"\n      }\n    }\n  ]\n}"
            }
          },
          "metadata": {},
          "execution_count": 15
        }
      ]
    },
    {
      "cell_type": "code",
      "source": [
        "#value.counts()\n",
        "df['Clicks'].value_counts()"
      ],
      "metadata": {
        "colab": {
          "base_uri": "https://localhost:8080/"
        },
        "id": "h-uuqorqziOi",
        "outputId": "c2ec58d0-864d-4ec7-d414-e5053ffa259a"
      },
      "execution_count": 16,
      "outputs": [
        {
          "output_type": "execute_result",
          "data": {
            "text/plain": [
              "Clicks\n",
              "0      207\n",
              "1      119\n",
              "2       70\n",
              "3       51\n",
              "4       34\n",
              "      ... \n",
              "421      1\n",
              "119      1\n",
              "111      1\n",
              "45       1\n",
              "252      1\n",
              "Name: count, Length: 183, dtype: int64"
            ]
          },
          "metadata": {},
          "execution_count": 16
        }
      ]
    },
    {
      "cell_type": "code",
      "source": [
        "import seaborn as sns\n",
        "import matplotlib.pyplot as plt\n",
        "\n",
        "plt.figure(figsize=(14,5))\n",
        "sns.countplot(x='INTEREST', data=df)\n",
        "plt.show"
      ],
      "metadata": {
        "colab": {
          "base_uri": "https://localhost:8080/",
          "height": 429
        },
        "id": "iSawjxRQPy-N",
        "outputId": "9fc63753-9a7e-41e4-f73e-6e7b496366bf"
      },
      "execution_count": 17,
      "outputs": [
        {
          "output_type": "execute_result",
          "data": {
            "text/plain": [
              "<function matplotlib.pyplot.show(close=None, block=None)>"
            ],
            "text/html": [
              "<div style=\"max-width:800px; border: 1px solid var(--colab-border-color);\"><style>\n",
              "      pre.function-repr-contents {\n",
              "        overflow-x: auto;\n",
              "        padding: 8px 12px;\n",
              "        max-height: 500px;\n",
              "      }\n",
              "\n",
              "      pre.function-repr-contents.function-repr-contents-collapsed {\n",
              "        cursor: pointer;\n",
              "        max-height: 100px;\n",
              "      }\n",
              "    </style>\n",
              "    <pre style=\"white-space: initial; background:\n",
              "         var(--colab-secondary-surface-color); padding: 8px 12px;\n",
              "         border-bottom: 1px solid var(--colab-border-color);\"><b>matplotlib.pyplot.show</b><br/>def show(*args, **kwargs)</pre><pre class=\"function-repr-contents function-repr-contents-collapsed\" style=\"\"><a class=\"filepath\" style=\"display:none\" href=\"#\">/usr/local/lib/python3.10/dist-packages/matplotlib/pyplot.py</a>Display all open figures.\n",
              "\n",
              "Parameters\n",
              "----------\n",
              "block : bool, optional\n",
              "    Whether to wait for all figures to be closed before returning.\n",
              "\n",
              "    If `True` block and run the GUI main loop until all figure windows\n",
              "    are closed.\n",
              "\n",
              "    If `False` ensure that all figure windows are displayed and return\n",
              "    immediately.  In this case, you are responsible for ensuring\n",
              "    that the event loop is running to have responsive figures.\n",
              "\n",
              "    Defaults to True in non-interactive mode and to False in interactive\n",
              "    mode (see `.pyplot.isinteractive`).\n",
              "\n",
              "See Also\n",
              "--------\n",
              "ion : Enable interactive mode, which shows / updates the figure after\n",
              "      every plotting command, so that calling ``show()`` is not necessary.\n",
              "ioff : Disable interactive mode.\n",
              "savefig : Save the figure to an image file instead of showing it on screen.\n",
              "\n",
              "Notes\n",
              "-----\n",
              "**Saving figures to file and showing a window at the same time**\n",
              "\n",
              "If you want an image file as well as a user interface window, use\n",
              "`.pyplot.savefig` before `.pyplot.show`. At the end of (a blocking)\n",
              "``show()`` the figure is closed and thus unregistered from pyplot. Calling\n",
              "`.pyplot.savefig` afterwards would save a new and thus empty figure. This\n",
              "limitation of command order does not apply if the show is non-blocking or\n",
              "if you keep a reference to the figure and use `.Figure.savefig`.\n",
              "\n",
              "**Auto-show in jupyter notebooks**\n",
              "\n",
              "The jupyter backends (activated via ``%matplotlib inline``,\n",
              "``%matplotlib notebook``, or ``%matplotlib widget``), call ``show()`` at\n",
              "the end of every cell by default. Thus, you usually don&#x27;t have to call it\n",
              "explicitly there.</pre>\n",
              "      <script>\n",
              "      if (google.colab.kernel.accessAllowed && google.colab.files && google.colab.files.view) {\n",
              "        for (const element of document.querySelectorAll('.filepath')) {\n",
              "          element.style.display = 'block'\n",
              "          element.onclick = (event) => {\n",
              "            event.preventDefault();\n",
              "            event.stopPropagation();\n",
              "            google.colab.files.view(element.textContent, 401);\n",
              "          };\n",
              "        }\n",
              "      }\n",
              "      for (const element of document.querySelectorAll('.function-repr-contents')) {\n",
              "        element.onclick = (event) => {\n",
              "          event.preventDefault();\n",
              "          event.stopPropagation();\n",
              "          element.classList.toggle('function-repr-contents-collapsed');\n",
              "        };\n",
              "      }\n",
              "      </script>\n",
              "      </div>"
            ]
          },
          "metadata": {},
          "execution_count": 17
        },
        {
          "output_type": "display_data",
          "data": {
            "text/plain": [
              "<Figure size 1400x500 with 1 Axes>"
            ],
            "image/png": "[encoded data removed]"
          },
          "metadata": {}
        }
      ]
    },
    {
      "cell_type": "code",
      "source": [
        "plt.figure(figsize=(14,5))\n",
        "sns.countplot(x='INTEREST',data=df,hue='gender')\n",
        "plt.show"
      ],
      "metadata": {
        "colab": {
          "base_uri": "https://localhost:8080/",
          "height": 430
        },
        "id": "GercOZmfRW88",
        "outputId": "aad0fb47-adc9-4d51-a073-ed71ca7fecb9"
      },
      "execution_count": 20,
      "outputs": [
        {
          "output_type": "execute_result",
          "data": {
            "text/plain": [
              "<function matplotlib.pyplot.show(close=None, block=None)>"
            ],
            "text/html": [
              "<div style=\"max-width:800px; border: 1px solid var(--colab-border-color);\"><style>\n",
              "      pre.function-repr-contents {\n",
              "        overflow-x: auto;\n",
              "        padding: 8px 12px;\n",
              "        max-height: 500px;\n",
              "      }\n",
              "\n",
              "      pre.function-repr-contents.function-repr-contents-collapsed {\n",
              "        cursor: pointer;\n",
              "        max-height: 100px;\n",
              "      }\n",
              "    </style>\n",
              "    <pre style=\"white-space: initial; background:\n",
              "         var(--colab-secondary-surface-color); padding: 8px 12px;\n",
              "         border-bottom: 1px solid var(--colab-border-color);\"><b>matplotlib.pyplot.show</b><br/>def show(*args, **kwargs)</pre><pre class=\"function-repr-contents function-repr-contents-collapsed\" style=\"\"><a class=\"filepath\" style=\"display:none\" href=\"#\">/usr/local/lib/python3.10/dist-packages/matplotlib/pyplot.py</a>Display all open figures.\n",
              "\n",
              "Parameters\n",
              "----------\n",
              "block : bool, optional\n",
              "    Whether to wait for all figures to be closed before returning.\n",
              "\n",
              "    If `True` block and run the GUI main loop until all figure windows\n",
              "    are closed.\n",
              "\n",
              "    If `False` ensure that all figure windows are displayed and return\n",
              "    immediately.  In this case, you are responsible for ensuring\n",
              "    that the event loop is running to have responsive figures.\n",
              "\n",
              "    Defaults to True in non-interactive mode and to False in interactive\n",
              "    mode (see `.pyplot.isinteractive`).\n",
              "\n",
              "See Also\n",
              "--------\n",
              "ion : Enable interactive mode, which shows / updates the figure after\n",
              "      every plotting command, so that calling ``show()`` is not necessary.\n",
              "ioff : Disable interactive mode.\n",
              "savefig : Save the figure to an image file instead of showing it on screen.\n",
              "\n",
              "Notes\n",
              "-----\n",
              "**Saving figures to file and showing a window at the same time**\n",
              "\n",
              "If you want an image file as well as a user interface window, use\n",
              "`.pyplot.savefig` before `.pyplot.show`. At the end of (a blocking)\n",
              "``show()`` the figure is closed and thus unregistered from pyplot. Calling\n",
              "`.pyplot.savefig` afterwards would save a new and thus empty figure. This\n",
              "limitation of command order does not apply if the show is non-blocking or\n",
              "if you keep a reference to the figure and use `.Figure.savefig`.\n",
              "\n",
              "**Auto-show in jupyter notebooks**\n",
              "\n",
              "The jupyter backends (activated via ``%matplotlib inline``,\n",
              "``%matplotlib notebook``, or ``%matplotlib widget``), call ``show()`` at\n",
              "the end of every cell by default. Thus, you usually don&#x27;t have to call it\n",
              "explicitly there.</pre>\n",
              "      <script>\n",
              "      if (google.colab.kernel.accessAllowed && google.colab.files && google.colab.files.view) {\n",
              "        for (const element of document.querySelectorAll('.filepath')) {\n",
              "          element.style.display = 'block'\n",
              "          element.onclick = (event) => {\n",
              "            event.preventDefault();\n",
              "            event.stopPropagation();\n",
              "            google.colab.files.view(element.textContent, 401);\n",
              "          };\n",
              "        }\n",
              "      }\n",
              "      for (const element of document.querySelectorAll('.function-repr-contents')) {\n",
              "        element.onclick = (event) => {\n",
              "          event.preventDefault();\n",
              "          event.stopPropagation();\n",
              "          element.classList.toggle('function-repr-contents-collapsed');\n",
              "        };\n",
              "      }\n",
              "      </script>\n",
              "      </div>"
            ]
          },
          "metadata": {},
          "execution_count": 20
        },
        {
          "output_type": "display_data",
          "data": {
            "text/plain": [
              "<Figure size 1400x500 with 1 Axes>"
            ],
            "image/png": "[encoded data removed]"
          },
          "metadata": {}
        }
      ]
    },
    {
      "cell_type": "code",
      "source": [
        "sns.lineplot(x='Clicks',y='INTEREST',data=df)"
      ],
      "metadata": {
        "colab": {
          "base_uri": "https://localhost:8080/",
          "height": 466
        },
        "id": "scRT_zJ-SLFG",
        "outputId": "ec89843f-bec7-45cc-dd26-245710aa6559"
      },
      "execution_count": 21,
      "outputs": [
        {
          "output_type": "execute_result",
          "data": {
            "text/plain": [
              "<Axes: xlabel='Clicks', ylabel='INTEREST'>"
            ]
          },
          "metadata": {},
          "execution_count": 21
        },
        {
          "output_type": "display_data",
          "data": {
            "text/plain": [
              "<Figure size 640x480 with 1 Axes>"
            ],
            "image/png": "[encoded data removed]"
          },
          "metadata": {}
        }
      ]
    },
    {
      "cell_type": "code",
      "source": [
        "sns.barplot(y='INTEREST',x='age',data=df)"
      ],
      "metadata": {
        "colab": {
          "base_uri": "https://localhost:8080/",
          "height": 466
        },
        "id": "k7qCZ9xcUC_g",
        "outputId": "f0c6e3c6-a53b-4769-b1c3-65974d86862b"
      },
      "execution_count": 24,
      "outputs": [
        {
          "output_type": "execute_result",
          "data": {
            "text/plain": [
              "<Axes: xlabel='age', ylabel='INTEREST'>"
            ]
          },
          "metadata": {},
          "execution_count": 24
        },
        {
          "output_type": "display_data",
          "data": {
            "text/plain": [
              "<Figure size 640x480 with 1 Axes>"
            ],
            "image/png": "[encoded data removed]"
          },
          "metadata": {}
        }
      ]
    },
    {
      "cell_type": "code",
      "source": [
        "sns.boxplot(x='age',y='Impressions',data=df)"
      ],
      "metadata": {
        "colab": {
          "base_uri": "https://localhost:8080/",
          "height": 482
        },
        "id": "N3Aamks9VjqZ",
        "outputId": "62519963-762e-4d94-9124-58ea198c3513"
      },
      "execution_count": 25,
      "outputs": [
        {
          "output_type": "execute_result",
          "data": {
            "text/plain": [
              "<Axes: xlabel='age', ylabel='Impressions'>"
            ]
          },
          "metadata": {},
          "execution_count": 25
        },
        {
          "output_type": "display_data",
          "data": {
            "text/plain": [
              "<Figure size 640x480 with 1 Axes>"
            ],
            "image/png": "[encoded data removed]"
          },
          "metadata": {}
        }
      ]
    },
    {
      "cell_type": "code",
      "source": [
        "sns.violinplot(x='age',y='Impressions',data=df)"
      ],
      "metadata": {
        "colab": {
          "base_uri": "https://localhost:8080/",
          "height": 482
        },
        "id": "j6ChHSYeWikx",
        "outputId": "aa9f64c5-7102-4a0d-825b-4cdafdb8a3db"
      },
      "execution_count": 26,
      "outputs": [
        {
          "output_type": "execute_result",
          "data": {
            "text/plain": [
              "<Axes: xlabel='age', ylabel='Impressions'>"
            ]
          },
          "metadata": {},
          "execution_count": 26
        },
        {
          "output_type": "display_data",
          "data": {
            "text/plain": [
              "<Figure size 640x480 with 1 Axes>"
            ],
            "image/png": "[encoded data removed]"
          },
          "metadata": {}
        }
      ]
    },
    {
      "cell_type": "code",
      "source": [
        "sns.histplot(y='INTEREST',data=df,kde=True)"
      ],
      "metadata": {
        "colab": {
          "base_uri": "https://localhost:8080/",
          "height": 466
        },
        "id": "Xlb6rM4CYQWH",
        "outputId": "db65fb44-6720-4ec3-a121-a59c74209a98"
      },
      "execution_count": 28,
      "outputs": [
        {
          "output_type": "execute_result",
          "data": {
            "text/plain": [
              "<Axes: xlabel='Count', ylabel='INTEREST'>"
            ]
          },
          "metadata": {},
          "execution_count": 28
        },
        {
          "output_type": "display_data",
          "data": {
            "text/plain": [
              "<Figure size 640x480 with 1 Axes>"
            ],
            "image/png": "[encoded data removed]"
          },
          "metadata": {}
        }
      ]
    }
  ]
}